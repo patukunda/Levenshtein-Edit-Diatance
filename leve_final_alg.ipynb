{
 "cells": [
  {
   "cell_type": "code",
   "execution_count": 1,
   "metadata": {
    "collapsed": true
   },
   "outputs": [],
   "source": [
    "%matplotlib notebook\n",
    "import numpy as np\n",
    "import pandas as pd\n",
    "from ipywidgets import *\n",
    "from IPython.display import display\n",
    "from ipywidgets import widgets\n",
    "from IPython.display import clear_output\n",
    "import math \n",
    "import pandas as pd \n",
    "from difflib import SequenceMatcher\n",
    "from itertools import groupby\n",
    "from fuzzywuzzy import fuzz\n",
    "import Levenshtein\n"
   ]
  },
  {
   "cell_type": "code",
   "execution_count": 2,
   "metadata": {},
   "outputs": [
    {
     "data": {
      "text/plain": [
       "(10188, 15)"
      ]
     },
     "execution_count": 2,
     "metadata": {},
     "output_type": "execute_result"
    }
   ],
   "source": [
    "data = pd.read_csv('Db_A.csv')\n",
    "data.shape"
   ]
  },
  {
   "cell_type": "code",
   "execution_count": 3,
   "metadata": {},
   "outputs": [
    {
     "data": {
      "text/plain": [
       "(7764, 15)"
      ]
     },
     "execution_count": 3,
     "metadata": {},
     "output_type": "execute_result"
    }
   ],
   "source": [
    "data = pd.read_csv('Db_B.csv')\n",
    "data.shape"
   ]
  },
  {
   "cell_type": "code",
   "execution_count": 4,
   "metadata": {},
   "outputs": [
    {
     "data": {
      "text/plain": [
       "(121, 15)"
      ]
     },
     "execution_count": 4,
     "metadata": {},
     "output_type": "execute_result"
    }
   ],
   "source": [
    "data = pd.read_csv('Db_C.csv')\n",
    "data.shape"
   ]
  },
  {
   "cell_type": "code",
   "execution_count": 5,
   "metadata": {},
   "outputs": [
    {
     "data": {
      "text/plain": [
       "(4502, 15)"
      ]
     },
     "execution_count": 5,
     "metadata": {},
     "output_type": "execute_result"
    }
   ],
   "source": [
    "data = pd.read_csv('Db_D.csv')\n",
    "data.shape"
   ]
  },
  {
   "cell_type": "code",
   "execution_count": 6,
   "metadata": {},
   "outputs": [
    {
     "data": {
      "text/html": [
       "<div>\n",
       "<style>\n",
       "    .dataframe thead tr:only-child th {\n",
       "        text-align: right;\n",
       "    }\n",
       "\n",
       "    .dataframe thead th {\n",
       "        text-align: left;\n",
       "    }\n",
       "\n",
       "    .dataframe tbody tr th {\n",
       "        vertical-align: top;\n",
       "    }\n",
       "</style>\n",
       "<table border=\"1\" class=\"dataframe\">\n",
       "  <thead>\n",
       "    <tr style=\"text-align: right;\">\n",
       "      <th></th>\n",
       "      <th>Clinic No.</th>\n",
       "      <th>Updated_GivenName</th>\n",
       "      <th>Updated_MiddleName</th>\n",
       "      <th>Updated_FamilyName</th>\n",
       "      <th>District</th>\n",
       "      <th>County</th>\n",
       "      <th>sub_county</th>\n",
       "      <th>Parish</th>\n",
       "      <th>village</th>\n",
       "      <th>Birthdate</th>\n",
       "      <th>Gender</th>\n",
       "      <th>Telephone Number</th>\n",
       "      <th>Treatment Supporter Telephone Number</th>\n",
       "      <th>First Encounter Date</th>\n",
       "      <th>ART Start Date</th>\n",
       "    </tr>\n",
       "  </thead>\n",
       "  <tbody>\n",
       "    <tr>\n",
       "      <th>0</th>\n",
       "      <td>KSY/04333</td>\n",
       "      <td>_1115022107010205</td>\n",
       "      <td>_08011818090520</td>\n",
       "      <td>_1309121225</td>\n",
       "      <td>WAKISO</td>\n",
       "      <td>KYADONDO</td>\n",
       "      <td>NaN</td>\n",
       "      <td>MUNYONYO</td>\n",
       "      <td>SALAAMA</td>\n",
       "      <td>5/5/1987</td>\n",
       "      <td>F</td>\n",
       "      <td>704455231.0</td>\n",
       "      <td>NaN</td>\n",
       "      <td>5/29/2012</td>\n",
       "      <td>3/15/2017</td>\n",
       "    </tr>\n",
       "    <tr>\n",
       "      <th>1</th>\n",
       "      <td>KSY/01254</td>\n",
       "      <td>_1401110923011201</td>\n",
       "      <td>_040526091801142001</td>\n",
       "      <td>_020120011302212605</td>\n",
       "      <td>KAMPALA</td>\n",
       "      <td>KCCA</td>\n",
       "      <td>NaN</td>\n",
       "      <td>NATEETE</td>\n",
       "      <td>NANFUKA</td>\n",
       "      <td>3/1/1962</td>\n",
       "      <td>F</td>\n",
       "      <td>787250467.0</td>\n",
       "      <td>NaN</td>\n",
       "      <td>1/13/2009</td>\n",
       "      <td>5/19/2009</td>\n",
       "    </tr>\n",
       "    <tr>\n",
       "      <th>2</th>\n",
       "      <td>KSY/04049</td>\n",
       "      <td>_11010821140405</td>\n",
       "      <td>_19251209220901</td>\n",
       "      <td>_20211909091305</td>\n",
       "      <td>KAMPALA</td>\n",
       "      <td>KCCA</td>\n",
       "      <td>NaN</td>\n",
       "      <td>NSAMBYA</td>\n",
       "      <td>KAMWANYI</td>\n",
       "      <td>8/4/1988</td>\n",
       "      <td>F</td>\n",
       "      <td>783154640.0</td>\n",
       "      <td>772330227.0</td>\n",
       "      <td>4/4/2012</td>\n",
       "      <td>NaN</td>\n",
       "    </tr>\n",
       "    <tr>\n",
       "      <th>3</th>\n",
       "      <td>KSY/09781</td>\n",
       "      <td>_1401132112150715</td>\n",
       "      <td>_1908011309180108</td>\n",
       "      <td>_14011407150209</td>\n",
       "      <td>KAMPALA</td>\n",
       "      <td>KCCA</td>\n",
       "      <td>NaN</td>\n",
       "      <td>KATWE</td>\n",
       "      <td>KINYORO</td>\n",
       "      <td>3/12/1996</td>\n",
       "      <td>F</td>\n",
       "      <td>758655179.0</td>\n",
       "      <td>755183164.0</td>\n",
       "      <td>4/1/2014</td>\n",
       "      <td>8/15/2013</td>\n",
       "    </tr>\n",
       "    <tr>\n",
       "      <th>4</th>\n",
       "      <td>KSY/10985</td>\n",
       "      <td>_14011419051115</td>\n",
       "      <td>_0114140520</td>\n",
       "      <td>_13210701130205</td>\n",
       "      <td>KAMPALA</td>\n",
       "      <td>KCCA</td>\n",
       "      <td>MAKINDYE DIVISION</td>\n",
       "      <td>KIBUYE I</td>\n",
       "      <td>NABISAALU</td>\n",
       "      <td>5/25/1993</td>\n",
       "      <td>F</td>\n",
       "      <td>756942230.0</td>\n",
       "      <td>753813705.0</td>\n",
       "      <td>8/25/2014</td>\n",
       "      <td>8/25/2014</td>\n",
       "    </tr>\n",
       "  </tbody>\n",
       "</table>\n",
       "</div>"
      ],
      "text/plain": [
       "  Clinic No.  Updated_GivenName   Updated_MiddleName   Updated_FamilyName  \\\n",
       "0  KSY/04333  _1115022107010205      _08011818090520          _1309121225   \n",
       "1  KSY/01254  _1401110923011201  _040526091801142001  _020120011302212605   \n",
       "2  KSY/04049    _11010821140405      _19251209220901      _20211909091305   \n",
       "3  KSY/09781  _1401132112150715    _1908011309180108      _14011407150209   \n",
       "4  KSY/10985    _14011419051115          _0114140520      _13210701130205   \n",
       "\n",
       "  District    County         sub_county    Parish    village  Birthdate  \\\n",
       "0   WAKISO  KYADONDO                NaN  MUNYONYO    SALAAMA   5/5/1987   \n",
       "1  KAMPALA      KCCA                NaN   NATEETE    NANFUKA   3/1/1962   \n",
       "2  KAMPALA      KCCA                NaN   NSAMBYA   KAMWANYI   8/4/1988   \n",
       "3  KAMPALA      KCCA                NaN     KATWE    KINYORO  3/12/1996   \n",
       "4  KAMPALA      KCCA  MAKINDYE DIVISION  KIBUYE I  NABISAALU  5/25/1993   \n",
       "\n",
       "  Gender  Telephone Number  Treatment Supporter Telephone Number  \\\n",
       "0      F       704455231.0                                   NaN   \n",
       "1      F       787250467.0                                   NaN   \n",
       "2      F       783154640.0                           772330227.0   \n",
       "3      F       758655179.0                           755183164.0   \n",
       "4      F       756942230.0                           753813705.0   \n",
       "\n",
       "  First Encounter Date ART Start Date  \n",
       "0            5/29/2012      3/15/2017  \n",
       "1            1/13/2009      5/19/2009  \n",
       "2             4/4/2012            NaN  \n",
       "3             4/1/2014      8/15/2013  \n",
       "4            8/25/2014      8/25/2014  "
      ]
     },
     "execution_count": 6,
     "metadata": {},
     "output_type": "execute_result"
    }
   ],
   "source": [
    "data_file_names = ['Db_A.csv', 'Db_B.csv','Db_C.csv','Db_D.csv' ]\n",
    "\n",
    "def join_files(file_names, output_file):\n",
    "    with open(output_file + '.csv', 'w') as outfile:\n",
    "        for file_name in file_names:\n",
    "            with open(file_name) as  infile:\n",
    "                for line in infile:\n",
    "                    outfile.write(line)\n",
    "    return output_file + '.csv'\n",
    "\n",
    "\n",
    "data_file = join_files(data_file_names, 'Db_KN')\n",
    "#data = data_file\n",
    "data.head()"
   ]
  },
  {
   "cell_type": "code",
   "execution_count": 7,
   "metadata": {},
   "outputs": [
    {
     "data": {
      "text/html": [
       "<div>\n",
       "<style>\n",
       "    .dataframe thead tr:only-child th {\n",
       "        text-align: right;\n",
       "    }\n",
       "\n",
       "    .dataframe thead th {\n",
       "        text-align: left;\n",
       "    }\n",
       "\n",
       "    .dataframe tbody tr th {\n",
       "        vertical-align: top;\n",
       "    }\n",
       "</style>\n",
       "<table border=\"1\" class=\"dataframe\">\n",
       "  <thead>\n",
       "    <tr style=\"text-align: right;\">\n",
       "      <th></th>\n",
       "      <th>Clinic No.</th>\n",
       "      <th>Updated_GivenName</th>\n",
       "      <th>Updated_MiddleName</th>\n",
       "      <th>Updated_FamilyName</th>\n",
       "      <th>District</th>\n",
       "      <th>County</th>\n",
       "      <th>sub_county</th>\n",
       "      <th>Parish</th>\n",
       "      <th>village</th>\n",
       "      <th>Birthdate</th>\n",
       "      <th>Gender</th>\n",
       "      <th>Telephone Number</th>\n",
       "      <th>Treatment Supporter Telephone Number</th>\n",
       "      <th>First Encounter Date</th>\n",
       "      <th>ART Start Date</th>\n",
       "    </tr>\n",
       "  </thead>\n",
       "  <tbody>\n",
       "    <tr>\n",
       "      <th>0</th>\n",
       "      <td>KAW/15013</td>\n",
       "      <td>_0513130114210512</td>\n",
       "      <td>_1101021507051805</td>\n",
       "      <td>_1919051821101001</td>\n",
       "      <td>KAMPALA</td>\n",
       "      <td>KCCA</td>\n",
       "      <td>KAWEMPE DIVISION</td>\n",
       "      <td>BWAISE III</td>\n",
       "      <td>KAWAALA</td>\n",
       "      <td>11/20/1978</td>\n",
       "      <td>M</td>\n",
       "      <td>754854336</td>\n",
       "      <td>NaN</td>\n",
       "      <td>11/21/2016</td>\n",
       "      <td>2/6/2017</td>\n",
       "    </tr>\n",
       "    <tr>\n",
       "      <th>1</th>\n",
       "      <td>KAW/14988</td>\n",
       "      <td>_1005190301</td>\n",
       "      <td>_140107012301</td>\n",
       "      <td>_112501130201040405</td>\n",
       "      <td>KAMPALA</td>\n",
       "      <td>KCCA</td>\n",
       "      <td>NaN</td>\n",
       "      <td>BWAISE</td>\n",
       "      <td>BUKUKANYI ZN</td>\n",
       "      <td>11/5/1968</td>\n",
       "      <td>F</td>\n",
       "      <td>753691230</td>\n",
       "      <td>752447720</td>\n",
       "      <td>11/14/2016</td>\n",
       "      <td>11/28/2016</td>\n",
       "    </tr>\n",
       "    <tr>\n",
       "      <th>2</th>\n",
       "      <td>KAW/14972</td>\n",
       "      <td>_0618011411</td>\n",
       "      <td>_110125051409</td>\n",
       "      <td>_13012501141001</td>\n",
       "      <td>KAMPALA</td>\n",
       "      <td>KCCA</td>\n",
       "      <td>KAWEMPE DIVISION</td>\n",
       "      <td>BWAISE III</td>\n",
       "      <td>KAWAALA</td>\n",
       "      <td>7/10/1982</td>\n",
       "      <td>M</td>\n",
       "      <td>706817366</td>\n",
       "      <td>752520767</td>\n",
       "      <td>11/8/2016</td>\n",
       "      <td>1/4/2017</td>\n",
       "    </tr>\n",
       "    <tr>\n",
       "      <th>3</th>\n",
       "      <td>KAW/14951</td>\n",
       "      <td>_1921120109130114</td>\n",
       "      <td>_1301190518211101</td>\n",
       "      <td>_132119091909</td>\n",
       "      <td>KAMPALA</td>\n",
       "      <td>KCCA</td>\n",
       "      <td>NaN</td>\n",
       "      <td>BWAISE</td>\n",
       "      <td>BWAISE</td>\n",
       "      <td>6/26/1974</td>\n",
       "      <td>M</td>\n",
       "      <td>782265154</td>\n",
       "      <td>789817048</td>\n",
       "      <td>11/7/2016</td>\n",
       "      <td>11/21/2016</td>\n",
       "    </tr>\n",
       "    <tr>\n",
       "      <th>4</th>\n",
       "      <td>KAW/14841</td>\n",
       "      <td>_021805140401</td>\n",
       "      <td>_191901142521</td>\n",
       "      <td>_140111011201142609</td>\n",
       "      <td>WAKISO</td>\n",
       "      <td>KYADONDO</td>\n",
       "      <td>NaN</td>\n",
       "      <td>NASANA</td>\n",
       "      <td>GANDA</td>\n",
       "      <td>4/21/1982</td>\n",
       "      <td>F</td>\n",
       "      <td>776345644</td>\n",
       "      <td>756345444</td>\n",
       "      <td>10/13/2016</td>\n",
       "      <td>4/21/2015</td>\n",
       "    </tr>\n",
       "  </tbody>\n",
       "</table>\n",
       "</div>"
      ],
      "text/plain": [
       "  Clinic No.  Updated_GivenName Updated_MiddleName   Updated_FamilyName  \\\n",
       "0  KAW/15013  _0513130114210512  _1101021507051805    _1919051821101001   \n",
       "1  KAW/14988        _1005190301      _140107012301  _112501130201040405   \n",
       "2  KAW/14972        _0618011411      _110125051409      _13012501141001   \n",
       "3  KAW/14951  _1921120109130114  _1301190518211101        _132119091909   \n",
       "4  KAW/14841      _021805140401      _191901142521  _140111011201142609   \n",
       "\n",
       "  District    County        sub_county      Parish       village   Birthdate  \\\n",
       "0  KAMPALA      KCCA  KAWEMPE DIVISION  BWAISE III       KAWAALA  11/20/1978   \n",
       "1  KAMPALA      KCCA               NaN      BWAISE  BUKUKANYI ZN   11/5/1968   \n",
       "2  KAMPALA      KCCA  KAWEMPE DIVISION  BWAISE III       KAWAALA   7/10/1982   \n",
       "3  KAMPALA      KCCA               NaN      BWAISE        BWAISE   6/26/1974   \n",
       "4   WAKISO  KYADONDO               NaN      NASANA         GANDA   4/21/1982   \n",
       "\n",
       "  Gender Telephone Number Treatment Supporter Telephone Number  \\\n",
       "0      M        754854336                                  NaN   \n",
       "1      F        753691230                            752447720   \n",
       "2      M        706817366                            752520767   \n",
       "3      M        782265154                            789817048   \n",
       "4      F        776345644                            756345444   \n",
       "\n",
       "  First Encounter Date ART Start Date  \n",
       "0           11/21/2016       2/6/2017  \n",
       "1           11/14/2016     11/28/2016  \n",
       "2            11/8/2016       1/4/2017  \n",
       "3            11/7/2016     11/21/2016  \n",
       "4           10/13/2016      4/21/2015  "
      ]
     },
     "execution_count": 7,
     "metadata": {},
     "output_type": "execute_result"
    }
   ],
   "source": [
    "data = pd.read_csv('Db_KN.csv')\n",
    "data.dropna(subset=['Clinic No.','District'],inplace=True)\n",
    "data.head()"
   ]
  },
  {
   "cell_type": "code",
   "execution_count": 8,
   "metadata": {},
   "outputs": [
    {
     "name": "stdout",
     "output_type": "stream",
     "text": [
      "22434\n"
     ]
    }
   ],
   "source": [
    "print(len(data))\n",
    "#print(data.iloc[21365])"
   ]
  },
  {
   "cell_type": "code",
   "execution_count": 9,
   "metadata": {},
   "outputs": [
    {
     "data": {
      "text/html": [
       "<div>\n",
       "<style>\n",
       "    .dataframe thead tr:only-child th {\n",
       "        text-align: right;\n",
       "    }\n",
       "\n",
       "    .dataframe thead th {\n",
       "        text-align: left;\n",
       "    }\n",
       "\n",
       "    .dataframe tbody tr th {\n",
       "        vertical-align: top;\n",
       "    }\n",
       "</style>\n",
       "<table border=\"1\" class=\"dataframe\">\n",
       "  <thead>\n",
       "    <tr style=\"text-align: right;\">\n",
       "      <th></th>\n",
       "      <th>Clinic No.</th>\n",
       "      <th>Updated_GivenName</th>\n",
       "      <th>Updated_MiddleName</th>\n",
       "      <th>Updated_FamilyName</th>\n",
       "      <th>District</th>\n",
       "      <th>County</th>\n",
       "      <th>sub_county</th>\n",
       "      <th>Parish</th>\n",
       "      <th>village</th>\n",
       "      <th>Birthdate</th>\n",
       "      <th>Gender</th>\n",
       "      <th>Telephone Number</th>\n",
       "      <th>Treatment Supporter Telephone Number</th>\n",
       "      <th>First Encounter Date</th>\n",
       "      <th>ART Start Date</th>\n",
       "    </tr>\n",
       "  </thead>\n",
       "  <tbody>\n",
       "    <tr>\n",
       "      <th>0</th>\n",
       "      <td>KAW/15013</td>\n",
       "      <td>_0513130114210512</td>\n",
       "      <td>_1101021507051805</td>\n",
       "      <td>_1919051821101001</td>\n",
       "      <td>KAMPALA</td>\n",
       "      <td>KCCA</td>\n",
       "      <td>KAWEMPE DIVISION</td>\n",
       "      <td>BWAISE III</td>\n",
       "      <td>KAWAALA</td>\n",
       "      <td>11/20/1978</td>\n",
       "      <td>M</td>\n",
       "      <td>754854336</td>\n",
       "      <td>''</td>\n",
       "      <td>11/21/2016</td>\n",
       "      <td>2/6/2017</td>\n",
       "    </tr>\n",
       "    <tr>\n",
       "      <th>1</th>\n",
       "      <td>KAW/14988</td>\n",
       "      <td>_1005190301</td>\n",
       "      <td>_140107012301</td>\n",
       "      <td>_112501130201040405</td>\n",
       "      <td>KAMPALA</td>\n",
       "      <td>KCCA</td>\n",
       "      <td>''</td>\n",
       "      <td>BWAISE</td>\n",
       "      <td>BUKUKANYI ZN</td>\n",
       "      <td>11/5/1968</td>\n",
       "      <td>F</td>\n",
       "      <td>753691230</td>\n",
       "      <td>752447720</td>\n",
       "      <td>11/14/2016</td>\n",
       "      <td>11/28/2016</td>\n",
       "    </tr>\n",
       "    <tr>\n",
       "      <th>2</th>\n",
       "      <td>KAW/14972</td>\n",
       "      <td>_0618011411</td>\n",
       "      <td>_110125051409</td>\n",
       "      <td>_13012501141001</td>\n",
       "      <td>KAMPALA</td>\n",
       "      <td>KCCA</td>\n",
       "      <td>KAWEMPE DIVISION</td>\n",
       "      <td>BWAISE III</td>\n",
       "      <td>KAWAALA</td>\n",
       "      <td>7/10/1982</td>\n",
       "      <td>M</td>\n",
       "      <td>706817366</td>\n",
       "      <td>752520767</td>\n",
       "      <td>11/8/2016</td>\n",
       "      <td>1/4/2017</td>\n",
       "    </tr>\n",
       "    <tr>\n",
       "      <th>3</th>\n",
       "      <td>KAW/14951</td>\n",
       "      <td>_1921120109130114</td>\n",
       "      <td>_1301190518211101</td>\n",
       "      <td>_132119091909</td>\n",
       "      <td>KAMPALA</td>\n",
       "      <td>KCCA</td>\n",
       "      <td>''</td>\n",
       "      <td>BWAISE</td>\n",
       "      <td>BWAISE</td>\n",
       "      <td>6/26/1974</td>\n",
       "      <td>M</td>\n",
       "      <td>782265154</td>\n",
       "      <td>789817048</td>\n",
       "      <td>11/7/2016</td>\n",
       "      <td>11/21/2016</td>\n",
       "    </tr>\n",
       "    <tr>\n",
       "      <th>4</th>\n",
       "      <td>KAW/14841</td>\n",
       "      <td>_021805140401</td>\n",
       "      <td>_191901142521</td>\n",
       "      <td>_140111011201142609</td>\n",
       "      <td>WAKISO</td>\n",
       "      <td>KYADONDO</td>\n",
       "      <td>''</td>\n",
       "      <td>NASANA</td>\n",
       "      <td>GANDA</td>\n",
       "      <td>4/21/1982</td>\n",
       "      <td>F</td>\n",
       "      <td>776345644</td>\n",
       "      <td>756345444</td>\n",
       "      <td>10/13/2016</td>\n",
       "      <td>4/21/2015</td>\n",
       "    </tr>\n",
       "  </tbody>\n",
       "</table>\n",
       "</div>"
      ],
      "text/plain": [
       "  Clinic No.  Updated_GivenName Updated_MiddleName   Updated_FamilyName  \\\n",
       "0  KAW/15013  _0513130114210512  _1101021507051805    _1919051821101001   \n",
       "1  KAW/14988        _1005190301      _140107012301  _112501130201040405   \n",
       "2  KAW/14972        _0618011411      _110125051409      _13012501141001   \n",
       "3  KAW/14951  _1921120109130114  _1301190518211101        _132119091909   \n",
       "4  KAW/14841      _021805140401      _191901142521  _140111011201142609   \n",
       "\n",
       "  District    County        sub_county      Parish       village   Birthdate  \\\n",
       "0  KAMPALA      KCCA  KAWEMPE DIVISION  BWAISE III       KAWAALA  11/20/1978   \n",
       "1  KAMPALA      KCCA                ''      BWAISE  BUKUKANYI ZN   11/5/1968   \n",
       "2  KAMPALA      KCCA  KAWEMPE DIVISION  BWAISE III       KAWAALA   7/10/1982   \n",
       "3  KAMPALA      KCCA                ''      BWAISE        BWAISE   6/26/1974   \n",
       "4   WAKISO  KYADONDO                ''      NASANA         GANDA   4/21/1982   \n",
       "\n",
       "  Gender Telephone Number Treatment Supporter Telephone Number  \\\n",
       "0      M        754854336                                   ''   \n",
       "1      F        753691230                            752447720   \n",
       "2      M        706817366                            752520767   \n",
       "3      M        782265154                            789817048   \n",
       "4      F        776345644                            756345444   \n",
       "\n",
       "  First Encounter Date ART Start Date  \n",
       "0           11/21/2016       2/6/2017  \n",
       "1           11/14/2016     11/28/2016  \n",
       "2            11/8/2016       1/4/2017  \n",
       "3            11/7/2016     11/21/2016  \n",
       "4           10/13/2016      4/21/2015  "
      ]
     },
     "execution_count": 9,
     "metadata": {},
     "output_type": "execute_result"
    }
   ],
   "source": [
    "##STEP 5\n",
    "##combine THE DATA WITH ADDRESSES WITH THE and fill in the remaining spaces with NA\n",
    "##dfbc - cleanup data \n",
    "## nf - data that was omitted due to missing village names\n",
    "# The idea is to get all the initial rows as per the original datasets combined \n",
    "final_data = pd.read_csv('Db_KN.csv')\n",
    "final_dataframe = final_data\n",
    "final_dataframe.dropna(subset=['Clinic No.','District'],inplace=True)\n",
    "final_dataframe= final_dataframe.fillna(\"''\")\n",
    "final_dataframe.head()"
   ]
  },
  {
   "cell_type": "code",
   "execution_count": null,
   "metadata": {
    "collapsed": true
   },
   "outputs": [],
   "source": []
  },
  {
   "cell_type": "code",
   "execution_count": 10,
   "metadata": {
    "collapsed": true
   },
   "outputs": [],
   "source": [
    "fd=final_dataframe\n",
    "##fd[\"name\"]= fd['Updated_FamilyName']+\" \"+fd['Updated_GivenName']+\" \"+fd['Updated_MiddleName']\n",
    "fd.head()\n",
    "fdx = fd\n",
    "data=fd\n",
    "#data=data.head(10)"
   ]
  },
  {
   "cell_type": "code",
   "execution_count": 11,
   "metadata": {},
   "outputs": [
    {
     "data": {
      "application/vnd.jupyter.widget-view+json": {
       "model_id": "9be1eeb53fff4d0ca141fca7f2cef164",
       "version_major": 2,
       "version_minor": 0
      },
      "text/plain": [
       "A Jupyter Widget"
      ]
     },
     "metadata": {},
     "output_type": "display_data"
    },
    {
     "data": {
      "application/vnd.jupyter.widget-view+json": {
       "model_id": "12ac481e553049d69faf75850b971d5d",
       "version_major": 2,
       "version_minor": 0
      },
      "text/plain": [
       "A Jupyter Widget"
      ]
     },
     "metadata": {},
     "output_type": "display_data"
    },
    {
     "data": {
      "application/vnd.jupyter.widget-view+json": {
       "model_id": "214f193d04fd4c39add46f82606e19e7",
       "version_major": 2,
       "version_minor": 0
      },
      "text/plain": [
       "A Jupyter Widget"
      ]
     },
     "metadata": {},
     "output_type": "display_data"
    },
    {
     "data": {
      "application/vnd.jupyter.widget-view+json": {
       "model_id": "f9368a9fef1a484f84ea2ae394d1c5ed",
       "version_major": 2,
       "version_minor": 0
      },
      "text/plain": [
       "A Jupyter Widget"
      ]
     },
     "metadata": {},
     "output_type": "display_data"
    },
    {
     "data": {
      "application/vnd.jupyter.widget-view+json": {
       "model_id": "d937e65b7b834604b40c0e00365b9d23",
       "version_major": 2,
       "version_minor": 0
      },
      "text/plain": [
       "A Jupyter Widget"
      ]
     },
     "metadata": {},
     "output_type": "display_data"
    },
    {
     "data": {
      "application/vnd.jupyter.widget-view+json": {
       "model_id": "efd552456b1b44f18eb2af527715d610",
       "version_major": 2,
       "version_minor": 0
      },
      "text/plain": [
       "A Jupyter Widget"
      ]
     },
     "metadata": {},
     "output_type": "display_data"
    },
    {
     "data": {
      "application/vnd.jupyter.widget-view+json": {
       "model_id": "9f9f25aa30ef41899e40bb70086e1f80",
       "version_major": 2,
       "version_minor": 0
      },
      "text/plain": [
       "A Jupyter Widget"
      ]
     },
     "metadata": {},
     "output_type": "display_data"
    },
    {
     "data": {
      "application/vnd.jupyter.widget-view+json": {
       "model_id": "53b1ca9e601144129fa4fa57665939d5",
       "version_major": 2,
       "version_minor": 0
      },
      "text/plain": [
       "A Jupyter Widget"
      ]
     },
     "metadata": {},
     "output_type": "display_data"
    },
    {
     "data": {
      "application/vnd.jupyter.widget-view+json": {
       "model_id": "60a6270489364983b0c16e849d7f3528",
       "version_major": 2,
       "version_minor": 0
      },
      "text/plain": [
       "A Jupyter Widget"
      ]
     },
     "metadata": {},
     "output_type": "display_data"
    },
    {
     "data": {
      "application/vnd.jupyter.widget-view+json": {
       "model_id": "d89f7520353b4f059a86c91009240379",
       "version_major": 2,
       "version_minor": 0
      },
      "text/plain": [
       "A Jupyter Widget"
      ]
     },
     "metadata": {},
     "output_type": "display_data"
    },
    {
     "data": {
      "application/vnd.jupyter.widget-view+json": {
       "model_id": "a9d21c5de99e47bbbe12b37a655248da",
       "version_major": 2,
       "version_minor": 0
      },
      "text/plain": [
       "A Jupyter Widget"
      ]
     },
     "metadata": {},
     "output_type": "display_data"
    },
    {
     "data": {
      "application/vnd.jupyter.widget-view+json": {
       "model_id": "e7e1ebc2fce94007a5d95eb052a568b9",
       "version_major": 2,
       "version_minor": 0
      },
      "text/plain": [
       "A Jupyter Widget"
      ]
     },
     "metadata": {},
     "output_type": "display_data"
    },
    {
     "data": {
      "application/vnd.jupyter.widget-view+json": {
       "model_id": "07891f6a9da44ecea4cf7c11006f27aa",
       "version_major": 2,
       "version_minor": 0
      },
      "text/plain": [
       "A Jupyter Widget"
      ]
     },
     "metadata": {},
     "output_type": "display_data"
    },
    {
     "data": {
      "application/vnd.jupyter.widget-view+json": {
       "model_id": "97cba478b79b45a0b17c50cf01a579b4",
       "version_major": 2,
       "version_minor": 0
      },
      "text/plain": [
       "A Jupyter Widget"
      ]
     },
     "metadata": {},
     "output_type": "display_data"
    },
    {
     "data": {
      "application/vnd.jupyter.widget-view+json": {
       "model_id": "348c44f1a37345c5a3e5bfa6acd63bf5",
       "version_major": 2,
       "version_minor": 0
      },
      "text/plain": [
       "A Jupyter Widget"
      ]
     },
     "metadata": {},
     "output_type": "display_data"
    },
    {
     "data": {
      "application/vnd.jupyter.widget-view+json": {
       "model_id": "e7d7318bd3a5446395aaa39066520576",
       "version_major": 2,
       "version_minor": 0
      },
      "text/plain": [
       "A Jupyter Widget"
      ]
     },
     "metadata": {},
     "output_type": "display_data"
    }
   ],
   "source": [
    "\n",
    "# displaying the text widget\n",
    "gn = widgets.Text(description=\"Given Name\", width=200)\n",
    "display(gn)\n",
    "mn = widgets.Text(description=\"Middle Name\", width=200)\n",
    "display(mn)\n",
    "fn = widgets.Text(description=\"Family Name\", width=200)\n",
    "display(fn)\n",
    "d = widgets.Text(description=\"District\", width=200)\n",
    "display(d)\n",
    "c = widgets.Text(description=\"County\", width=200)\n",
    "display(c)\n",
    "sc = widgets.Text(description=\"sub_county\", width=200)\n",
    "display(sc)\n",
    "p= widgets.Text(description=\"Parish\", width=200)\n",
    "display(p)\n",
    "v = widgets.Text(description=\"village\", width=200)\n",
    "display(v)\n",
    "bd = widgets.Text(description=\"Birth Date\", width=200)\n",
    "display(bd)\n",
    "g = widgets.Text(description=\"Gender\", width=200)\n",
    "display(g)\n",
    "tn = widgets.Text(description=\"Telephone Number\", width=200)\n",
    "display(tn)\n",
    "tstn = widgets.Text(description=\"Treatment Support Telphone Number\", width=200)\n",
    "display(tstn)\n",
    "fed = widgets.Text(description=\"First Encounter Date\", width=200)\n",
    "display(fed)\n",
    "asd = widgets.Text(description=\"ART Start Date\", width=200)\n",
    "display(asd)\n",
    "\n",
    " \n",
    "# preparing a container to put in created checkbox per domain\n",
    "checkboxes = []\n",
    "cb_container = widgets.HBox()\n",
    "display(cb_container)\n",
    " \n",
    "# add button that updates the graph based on the checkboxes\n",
    "\n",
    "button = widgets.Button(description=\"Search\", width=5000)\n",
    "display(button)\n",
    "\n",
    "def on_button_clicked(b):\n",
    "    clear_output()\n",
    "    #print(text.value)\n",
    "    \n",
    "    #selected_patient =final_dataframe[final_dataframe[\"Clinic No.\"] == \"ksy/21767\"].iloc[0]\n",
    "    selected_patient=(gn.value,\n",
    "                    mn.value,fn.value,d.value,c.value,sc.value,p.value,\n",
    "                     v.value,bd.value,g.value, tn.value,tstn.value, fed.value, asd.value)\n",
    "    #print(selected_patient)\n",
    "    \n",
    "    \n",
    "        #columns (we'll use these to compute the Levenshtein distance)\n",
    "    distance_columns = ['Updated_GivenName','Updated_MiddleName','Updated_FamilyName','District','County','sub_county','Parish','village' ,'Birthdate','Gender', 'Telephone Number','Treatment Supporter Telephone Number','First Encounter Date','ART Start Date']\n",
    "\n",
    "\n",
    "   # data.head()\n",
    "    #Calcuate the distances\n",
    "    def levenshtein_distance(row):\n",
    "        \"\"\"\n",
    "        A simple levenshtein distance function\n",
    "        \"\"\"\n",
    "        inner_value = 0\n",
    "        number =0\n",
    "        #print(distance_columns)\n",
    "        for k in distance_columns:\n",
    "                  \n",
    "            if k=='Updated_GivenName' or k=='Updated_MiddleName' or k =='Updated_FamilyName':\n",
    "                constant=0.5\n",
    "            elif k=='District' or k=='County' or k=='sub_county' or k=='Parish' or k=='village':\n",
    "                constant=0.05\n",
    "            elif k=='Birthdate' or k=='ART Start Date' or k=='First Encounter Date':\n",
    "                constant=0.01\n",
    "            elif k=='Telephone Number' or k=='Treatment Supporter Telephone Number':\n",
    "                constant=0.075\n",
    "            elif k=='Gender':\n",
    "                constant=0.15\n",
    "\n",
    "         \n",
    "            inner_value += (((1 - Levenshtein.ratio(row[k], selected_patient[number]))*constant)**2)\n",
    "            number += 1\n",
    "\n",
    "\n",
    "        return math.sqrt(inner_value)\n",
    "\n",
    "    # Find the distance between the selected/chosen patient and everyone else.\n",
    "    levenshtein_distances = data.apply(lambda row: levenshtein_distance(row), axis=1)\n",
    "    \n",
    "      #STEP 5: WEIGHT SORTING \n",
    "    # Create a new dataframe with distances.\n",
    "    distance_frame = pd.DataFrame(data={\"dist\": levenshtein_distances, \"idx\": levenshtein_distances.index, \"Clinic No.\": data[\"Clinic No.\"]})\n",
    "    distance_frame.sort_values(\"dist\", inplace=True)\n",
    "    #print(distance_frame.head())\n",
    "        #STEP 6: EVALUATION \n",
    "    # Find the most similar patient's to the selected patient(the lowest distance to the sp (selected patient) is sp, the second smallest is the most similar non-sp patient)\n",
    "    second_smallest = distance_frame.iloc[1][\"idx\"]\n",
    "    most_similar_to_sp = data.loc[int(second_smallest)][\"Clinic No.\"]\n",
    "    #print(distance_frame)\n",
    "    print(most_similar_to_sp)\n",
    "\n",
    "    #Get the details \n",
    "    patient = data[data[\"Clinic No.\"] == most_similar_to_sp].iloc[0]\n",
    "\n",
    "\n",
    "    distance_frame = pd.DataFrame(data={\"dist\": levenshtein_distances, \"idx\": levenshtein_distances.index, \"Clinic No.\": data[\"Clinic No.\"], \n",
    "                                  \"Updated_GivenName\": data[\"Updated_GivenName\"], \"Updated_MiddleName\":data[\"Updated_MiddleName\"], \"Updated_FamilyName\": data[\"Updated_FamilyName\"],\"District\":data[\"District\"], \"County\":data[\"County\"],\"sub_county\":data[\"sub_county\"], \"Parish\": data[\"Parish\"], \"village\":data[\"village\"],\n",
    "                                   \"Birthdate\":data[\"Birthdate\"], \"Gender\":data[\"Gender\"], \"Telephone Number\":data[\"Telephone Number\"],\"Treatment Supporter Telephone Number\":data[\"Treatment Supporter Telephone Number\"],\n",
    "                                   \"First Encounter Date\":data[\"First Encounter Date\"],\"ART Start Date\":data[\"ART Start Date\"]})\n",
    "    distance_frame.sort_values(\"dist\", inplace=True)\n",
    "\n",
    "    #print distances/scores just to have an overview of the differences\n",
    "    print(distance_frame.head())\n",
    "    \n",
    "    saved_df = distance_frame.head(4)\n",
    "    #-----------------categorization ---------------------------------#\n",
    "    def categorize_distances(row):\n",
    "        category_name = \"\"\n",
    "        try:\n",
    "            distance_value = row[\"dist\"]\n",
    "            value = float(distance_value)\n",
    "            if(value)==0.000000:\n",
    "                category_name = \"Match\"\n",
    "            elif(0.000001 <= value <= 0.1):\n",
    "                category_name = \"Possible Match\"\n",
    "            elif(value > 0.1):\n",
    "                category_name = \"None Match\"\n",
    "            distance_value = \"\"\n",
    "        except:\n",
    "            category_name= \"Not Categorised,Invalid Distance Value\"\n",
    "        return category_name\n",
    "    \n",
    "    categorised_distances = saved_df.apply(lambda row: categorize_distances(row), axis=1)\n",
    "    saved_df = saved_df.assign(RecordCategory =categorised_distances.values)\n",
    "    #saved_df['Category'] = Series(categorised_distances, index=saved_df.index)\n",
    "    #categorised_distances.to_csv('saved_Levenshtein_distances_category.csv')\n",
    "    #---------------end of categorization----------------------------#\n",
    "    saved_df.to_csv('saved_Levenshtein_distances.csv')\n",
    "    print(saved_df)\n",
    "    distance_framex=distance_frame\n",
    "    \n",
    "button.on_click(on_button_clicked)\n",
    "# function to deal with the added domain name\n",
    "#button.on_click(on_button_clicked)"
   ]
  },
  {
   "cell_type": "code",
   "execution_count": null,
   "metadata": {
    "collapsed": true
   },
   "outputs": [],
   "source": []
  }
 ],
 "metadata": {
  "kernelspec": {
   "display_name": "Python 3",
   "language": "python",
   "name": "python3"
  },
  "language_info": {
   "codemirror_mode": {
    "name": "ipython",
    "version": 3
   },
   "file_extension": ".py",
   "mimetype": "text/x-python",
   "name": "python",
   "nbconvert_exporter": "python",
   "pygments_lexer": "ipython3",
   "version": "3.6.3"
  },
  "widgets": {
   "state": {
    "10f09041cb264173821c90d00182334e": {
     "views": []
    },
    "1e97a46190524ff4b224df0c449e8be5": {
     "views": []
    },
    "2248cd059b5248c7a8b9672317680e82": {
     "views": [
      {
       "cell_index": 6
      }
     ]
    },
    "2e1c1ce40a6c42658a428d3a248496cd": {
     "views": []
    },
    "301cc9a0618e41b28d02305d4a3fd0f8": {
     "views": [
      {
       "cell_index": 6
      }
     ]
    },
    "41a182a62f3d49b78c25f64858beec7c": {
     "views": []
    },
    "431eb6210ccd416f861bb3cec61c6270": {
     "views": []
    },
    "463e3c5953294fbf9bb101e03e1eb736": {
     "views": []
    },
    "47b6427edd464fcea82ec605b99c599f": {
     "views": []
    },
    "4870beee222f495a986dfa36f688b08f": {
     "views": []
    },
    "566229b0e0b74b20926daf63f8397034": {
     "views": []
    },
    "5a5926cebf7248f69ab298b3c0cbc387": {
     "views": []
    },
    "66213415045d464d98adab941605cbd6": {
     "views": [
      {
       "cell_index": 6
      }
     ]
    },
    "6fa80ae2d5fb4f0bbd74a3e1da381ac0": {
     "views": []
    },
    "a002aa13e9694fd989695fe53f4ab679": {
     "views": [
      {
       "cell_index": 6
      }
     ]
    },
    "a053d8173aec47d19b6e43e3570fe2c0": {
     "views": []
    },
    "a380ba4c7f834625b4d0e94efc49a7cd": {
     "views": []
    },
    "b53d0f7e345a47799450a6fc5ee6affd": {
     "views": []
    },
    "b5a9f46443dc44ad8aab47c6c74926a8": {
     "views": []
    },
    "bb7bbcde06664b1eb75ed2ffb8bdc827": {
     "views": []
    },
    "bb94d7fc817441f59734c75a96eae1de": {
     "views": [
      {
       "cell_index": 6
      }
     ]
    },
    "c29d205ecb0440aa8502b362b0746dc2": {
     "views": []
    },
    "c75c33cc75e64ae290cab6713ab0aea2": {
     "views": []
    },
    "cf91c8168eb74f7e862c07df744ad2aa": {
     "views": [
      {
       "cell_index": 6
      }
     ]
    },
    "d13a69030cdf4cb08bfc0e04b09aa8b9": {
     "views": [
      {
       "cell_index": 6
      }
     ]
    },
    "d1895d850a9a4f139a1030028df6dcbd": {
     "views": []
    },
    "dd7c1bd757c44fa0aece272822055ca0": {
     "views": []
    },
    "ded4016170274fb4a40f2341c7a6167d": {
     "views": []
    },
    "f50d3a26ae3b4733aa77724e94a9988f": {
     "views": []
    },
    "fd8346722797448e8bd87fe45a688ee7": {
     "views": []
    }
   },
   "version": "1.1.2"
  }
 },
 "nbformat": 4,
 "nbformat_minor": 2
}
